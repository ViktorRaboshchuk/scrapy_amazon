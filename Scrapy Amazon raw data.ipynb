{
 "cells": [
  {
   "cell_type": "code",
   "execution_count": 284,
   "metadata": {},
   "outputs": [],
   "source": [
    "import pandas as pd\n",
    "import re\n",
    "\n",
    "path = r'C:\\Users\\38099\\OneDrive - AFG\\Desktop\\file.csv'\n",
    "#path = r'pathto_the_file'\n",
    "\n",
    "df = pd.read_csv(path)\n",
    "\n",
    "for i in df.columns:\n",
    "    df[i] = df[i].str.replace('\\n',' ', regex=True)\n",
    "    df[i] = df[i].str.replace(', , ,', '', regex=True)\n",
    "    df[i] = df[i].str.replace(' , ', '',  regex=True)\n",
    "    df[i] = df[i].str.replace('by entering your model number.', '')\n",
    "    df[i] = df[i].apply(lambda x: str(x).replace('  ', ' '))\n",
    "    df[i] = df[i].apply(lambda x: str(x).replace('  ', ' '))\n",
    "    df[i] = df[i].apply(lambda x: str(x).replace('  ', ' '))\n",
    "    df[i] = df[i].apply(lambda x: str(x).replace('  ', ' '))\n",
    "    df[i] = df[i].str.strip()\n",
    "    \n",
    "    \n",
    "df = df[['product_page', 'category_name', 'product_name',\n",
    "             'product_main_price', 'alt_prod_price', 'product_price',\n",
    "             'product_description', 'long_product_description', 'from_the_manufacturer',\n",
    "             'product_image','product_reviews']]\n",
    "\n",
    "for row, i in df.product_price.iteritems():\n",
    "    if \"$\" in i:\n",
    "        str_list = i.split(' ')\n",
    "        for st in str_list:\n",
    "            if \"$\" in st:\n",
    "                product_price_val = str(re.findall(r\"\\b\\$?[\\d,.]+\\b\", st)[0])\n",
    "                df.product_price.iloc[row] = product_price_val\n",
    "    else:\n",
    "        product_price_val = 0\n",
    "        df.product_price.iloc[row] = product_price_val \n"
   ]
  },
  {
   "cell_type": "code",
   "execution_count": null,
   "metadata": {},
   "outputs": [],
   "source": []
  }
 ],
 "metadata": {
  "kernelspec": {
   "display_name": "Python 3",
   "language": "python",
   "name": "python3"
  },
  "language_info": {
   "codemirror_mode": {
    "name": "ipython",
    "version": 3
   },
   "file_extension": ".py",
   "mimetype": "text/x-python",
   "name": "python",
   "nbconvert_exporter": "python",
   "pygments_lexer": "ipython3",
   "version": "3.7.4"
  }
 },
 "nbformat": 4,
 "nbformat_minor": 2
}
